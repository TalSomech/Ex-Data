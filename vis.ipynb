%matplotlib inline
import pandas as pd
import numpy as np
import seaborn as sns
import matplotlib.mlab as mlab
from scipy.stats import norm
import math

avg=100
var=15
x=np.linspace(40,160,10000)
y=np.exp(-np.power(x - avg, 2.) / (2 * np.power(var, 2.)))/np.sqrt(2*np.pi*np.power(var,2))
fig, ax=plt.subplots(ncols=1,nrows=1)
cl=['aquamarine','crimson','indigo','gold']
cl=cl+list(reversed(cl))
pr=["0.1%","2%","14%","34%"]
pr=pr+list(reversed(pr))
for i,color in zip(range(-4,4),cl):
    low=avg +i*var
    high=avg+(i+1)*var
    # be.append(x[np.logical_and(low <= x,x <= high)])
    # ind=np.where(x==(low+high)/2)
    ind=(np.abs(x - (low+high/2)).argmin())
    # print(np.where((np.abs(x
